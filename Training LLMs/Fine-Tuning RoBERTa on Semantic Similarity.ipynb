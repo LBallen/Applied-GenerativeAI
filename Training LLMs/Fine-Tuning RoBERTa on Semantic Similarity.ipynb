{
 "cells": [
  {
   "cell_type": "code",
   "id": "initial_id",
   "metadata": {
    "collapsed": true,
    "ExecuteTime": {
     "end_time": "2025-10-21T07:50:05.472453Z",
     "start_time": "2025-10-21T07:50:01.466354Z"
    }
   },
   "source": [
    "from pkg_resources import non_empty_lines\n",
    "%pip install -q peft datasets evaluate\n",
    "%pip install -q torch torchvision --index-url https://download.pytorch.org/whl/cu130\n",
    "%pip install -q transformers[torch]\n"
   ],
   "outputs": [
    {
     "name": "stdout",
     "output_type": "stream",
     "text": [
      "Note: you may need to restart the kernel to use updated packages.\n",
      "Note: you may need to restart the kernel to use updated packages.\n",
      "Note: you may need to restart the kernel to use updated packages.\n"
     ]
    }
   ],
   "execution_count": 63
  },
  {
   "metadata": {
    "ExecuteTime": {
     "end_time": "2025-10-21T07:50:05.481084Z",
     "start_time": "2025-10-21T07:50:05.477698Z"
    }
   },
   "cell_type": "code",
   "source": [
    "import torch\n",
    "from datasets import load_dataset\n",
    "from transformers import AutoTokenizer, AutoModelForSequenceClassification, TrainingArguments, Trainer, DataCollatorWithPadding\n",
    "import evaluate\n",
    "from peft import get_peft_model, LoraConfig, TaskType\n",
    "import numpy as np\n",
    "import matplotlib.pyplot as plt\n",
    "from sklearn.metrics import confusion_matrix, ConfusionMatrixDisplay, f1_score\n",
    "from peft import get_peft_config, get_peft_model, LoraConfig, TaskType"
   ],
   "id": "46383c0b2ef3863e",
   "outputs": [],
   "execution_count": 64
  },
  {
   "metadata": {
    "ExecuteTime": {
     "end_time": "2025-10-21T07:50:06.886032Z",
     "start_time": "2025-10-21T07:50:05.488249Z"
    }
   },
   "cell_type": "code",
   "source": [
    "import os\n",
    "os.environ[\"HF_HUB_DISABLE_SYMLINKS_WARNING\"] = \"1\"\n",
    "dataset = load_dataset(\"glue\", \"mrpc\")\n",
    "model_name_or_path = \"roberta-base\"\n",
    "task = \"mrpc\"\n",
    "print(dataset)"
   ],
   "id": "453734dbedbcaf3d",
   "outputs": [
    {
     "name": "stdout",
     "output_type": "stream",
     "text": [
      "DatasetDict({\n",
      "    train: Dataset({\n",
      "        features: ['sentence1', 'sentence2', 'label', 'idx'],\n",
      "        num_rows: 3668\n",
      "    })\n",
      "    validation: Dataset({\n",
      "        features: ['sentence1', 'sentence2', 'label', 'idx'],\n",
      "        num_rows: 408\n",
      "    })\n",
      "    test: Dataset({\n",
      "        features: ['sentence1', 'sentence2', 'label', 'idx'],\n",
      "        num_rows: 1725\n",
      "    })\n",
      "})\n"
     ]
    }
   ],
   "execution_count": 65
  },
  {
   "metadata": {
    "ExecuteTime": {
     "end_time": "2025-10-21T07:50:07.820737Z",
     "start_time": "2025-10-21T07:50:06.890671Z"
    }
   },
   "cell_type": "code",
   "source": "metric = evaluate.load(\"glue\", task)",
   "id": "2aeba67f531028d3",
   "outputs": [],
   "execution_count": 66
  },
  {
   "metadata": {
    "ExecuteTime": {
     "end_time": "2025-10-21T07:50:07.832360Z",
     "start_time": "2025-10-21T07:50:07.827087Z"
    }
   },
   "cell_type": "code",
   "source": "dataset[\"validation\"][1]",
   "id": "33b270cd42773eb9",
   "outputs": [
    {
     "data": {
      "text/plain": [
       "{'sentence1': 'Magnarelli said Racicot hated the Iraqi regime and looked forward to using his long years of training in the war .',\n",
       " 'sentence2': 'His wife said he was \" 100 percent behind George Bush \" and looked forward to using his years of training in the war .',\n",
       " 'label': 0,\n",
       " 'idx': 18}"
      ]
     },
     "execution_count": 67,
     "metadata": {},
     "output_type": "execute_result"
    }
   ],
   "execution_count": 67
  },
  {
   "metadata": {
    "ExecuteTime": {
     "end_time": "2025-10-21T07:50:07.846982Z",
     "start_time": "2025-10-21T07:50:07.842883Z"
    }
   },
   "cell_type": "code",
   "source": "metric",
   "id": "8581fd9db7b11064",
   "outputs": [
    {
     "data": {
      "text/plain": [
       "EvaluationModule(name: \"glue\", module_type: \"metric\", features: {'predictions': Value('int64'), 'references': Value('int64')}, usage: \"\"\"\n",
       "Compute GLUE evaluation metric associated to each GLUE dataset.\n",
       "Args:\n",
       "    predictions: list of predictions to score.\n",
       "        Each translation should be tokenized into a list of tokens.\n",
       "    references: list of lists of references for each translation.\n",
       "        Each reference should be tokenized into a list of tokens.\n",
       "Returns: depending on the GLUE subset, one or several of:\n",
       "    \"accuracy\": Accuracy\n",
       "    \"f1\": F1 score\n",
       "    \"pearson\": Pearson Correlation\n",
       "    \"spearmanr\": Spearman Correlation\n",
       "    \"matthews_correlation\": Matthew Correlation\n",
       "Examples:\n",
       "\n",
       "    >>> glue_metric = evaluate.load('glue', 'sst2')  # 'sst2' or any of [\"mnli\", \"mnli_mismatched\", \"mnli_matched\", \"qnli\", \"rte\", \"wnli\", \"hans\"]\n",
       "    >>> references = [0, 1]\n",
       "    >>> predictions = [0, 1]\n",
       "    >>> results = glue_metric.compute(predictions=predictions, references=references)\n",
       "    >>> print(results)\n",
       "    {'accuracy': 1.0}\n",
       "\n",
       "    >>> glue_metric = evaluate.load('glue', 'mrpc')  # 'mrpc' or 'qqp'\n",
       "    >>> references = [0, 1]\n",
       "    >>> predictions = [0, 1]\n",
       "    >>> results = glue_metric.compute(predictions=predictions, references=references)\n",
       "    >>> print(results)\n",
       "    {'accuracy': 1.0, 'f1': 1.0}\n",
       "\n",
       "    >>> glue_metric = evaluate.load('glue', 'stsb')\n",
       "    >>> references = [0., 1., 2., 3., 4., 5.]\n",
       "    >>> predictions = [0., 1., 2., 3., 4., 5.]\n",
       "    >>> results = glue_metric.compute(predictions=predictions, references=references)\n",
       "    >>> print({\"pearson\": round(results[\"pearson\"], 2), \"spearmanr\": round(results[\"spearmanr\"], 2)})\n",
       "    {'pearson': 1.0, 'spearmanr': 1.0}\n",
       "\n",
       "    >>> glue_metric = evaluate.load('glue', 'cola')\n",
       "    >>> references = [0, 1]\n",
       "    >>> predictions = [0, 1]\n",
       "    >>> results = glue_metric.compute(predictions=predictions, references=references)\n",
       "    >>> print(results)\n",
       "    {'matthews_correlation': 1.0}\n",
       "\"\"\", stored examples: 0)"
      ]
     },
     "execution_count": 68,
     "metadata": {},
     "output_type": "execute_result"
    }
   ],
   "execution_count": 68
  },
  {
   "metadata": {
    "ExecuteTime": {
     "end_time": "2025-10-21T07:50:07.871443Z",
     "start_time": "2025-10-21T07:50:07.857798Z"
    }
   },
   "cell_type": "code",
   "source": [
    "references = [0, 1]\n",
    "predictions = [1, 1]\n",
    "results = metric.compute(predictions=predictions, references=references)\n",
    "print(results)\n"
   ],
   "id": "6486242758f8167f",
   "outputs": [
    {
     "name": "stdout",
     "output_type": "stream",
     "text": [
      "{'accuracy': 0.5, 'f1': 0.6666666666666666}\n"
     ]
    }
   ],
   "execution_count": 69
  },
  {
   "metadata": {
    "ExecuteTime": {
     "end_time": "2025-10-21T07:50:08.169485Z",
     "start_time": "2025-10-21T07:50:07.875952Z"
    }
   },
   "cell_type": "code",
   "source": [
    "os.environ[\"HF_HUB_DISABLE_SYMLINKS_WARNING\"] = \"1\"\n",
    "\n",
    "from transformers import AutoTokenizer\n",
    "tokenizer = AutoTokenizer.from_pretrained(model_name_or_path, padding_side = \"right\")\n",
    "\n",
    "if getattr(tokenizer, \"pad_token_id\") is None:\n",
    "    tokenizer.pad_token_id = tokenizer.eos_token_id\n",
    "\n",
    "def tokenize_function(examples):\n",
    "    return tokenizer(\n",
    "        examples[\"sentence1\"],\n",
    "        examples[\"sentence2\"],\n",
    "        truncation=True,\n",
    "        max_length = None\n",
    "    )\n",
    "\n",
    "tokenized_datasets = dataset.map(tokenize_function, batched=True, remove_columns=[\"sentence1\", \"sentence2\"])\n",
    "tokenized_datasets = tokenized_datasets.rename_column(\"label\", \"labels\")"
   ],
   "id": "4ba5d5321b4e1bf0",
   "outputs": [],
   "execution_count": 70
  },
  {
   "metadata": {
    "ExecuteTime": {
     "end_time": "2025-10-21T07:50:08.179760Z",
     "start_time": "2025-10-21T07:50:08.175717Z"
    }
   },
   "cell_type": "code",
   "source": "tokenized_datasets",
   "id": "5b31a2c4d7a261d4",
   "outputs": [
    {
     "data": {
      "text/plain": [
       "DatasetDict({\n",
       "    train: Dataset({\n",
       "        features: ['labels', 'idx', 'input_ids', 'attention_mask'],\n",
       "        num_rows: 3668\n",
       "    })\n",
       "    validation: Dataset({\n",
       "        features: ['labels', 'idx', 'input_ids', 'attention_mask'],\n",
       "        num_rows: 408\n",
       "    })\n",
       "    test: Dataset({\n",
       "        features: ['labels', 'idx', 'input_ids', 'attention_mask'],\n",
       "        num_rows: 1725\n",
       "    })\n",
       "})"
      ]
     },
     "execution_count": 71,
     "metadata": {},
     "output_type": "execute_result"
    }
   ],
   "execution_count": 71
  },
  {
   "metadata": {
    "ExecuteTime": {
     "end_time": "2025-10-21T07:50:08.194459Z",
     "start_time": "2025-10-21T07:50:08.190118Z"
    }
   },
   "cell_type": "code",
   "source": "tokenized_datasets[\"train\"][1]",
   "id": "567a1f61bc1dfeaf",
   "outputs": [
    {
     "data": {
      "text/plain": [
       "{'labels': 0,\n",
       " 'idx': 1,\n",
       " 'input_ids': [0,\n",
       "  975,\n",
       "  26802,\n",
       "  1588,\n",
       "  102,\n",
       "  2164,\n",
       "  13976,\n",
       "  1758,\n",
       "  128,\n",
       "  29,\n",
       "  137,\n",
       "  2183,\n",
       "  5,\n",
       "  3206,\n",
       "  7,\n",
       "  11881,\n",
       "  10564,\n",
       "  11,\n",
       "  6708,\n",
       "  13,\n",
       "  68,\n",
       "  132,\n",
       "  4,\n",
       "  245,\n",
       "  325,\n",
       "  479,\n",
       "  2,\n",
       "  2,\n",
       "  975,\n",
       "  26802,\n",
       "  1588,\n",
       "  102,\n",
       "  2162,\n",
       "  13976,\n",
       "  1758,\n",
       "  128,\n",
       "  29,\n",
       "  11,\n",
       "  7969,\n",
       "  13,\n",
       "  68,\n",
       "  231,\n",
       "  6478,\n",
       "  153,\n",
       "  8,\n",
       "  1088,\n",
       "  24,\n",
       "  7,\n",
       "  11881,\n",
       "  10564,\n",
       "  13,\n",
       "  68,\n",
       "  112,\n",
       "  4,\n",
       "  398,\n",
       "  325,\n",
       "  11,\n",
       "  6708,\n",
       "  479,\n",
       "  2],\n",
       " 'attention_mask': [1,\n",
       "  1,\n",
       "  1,\n",
       "  1,\n",
       "  1,\n",
       "  1,\n",
       "  1,\n",
       "  1,\n",
       "  1,\n",
       "  1,\n",
       "  1,\n",
       "  1,\n",
       "  1,\n",
       "  1,\n",
       "  1,\n",
       "  1,\n",
       "  1,\n",
       "  1,\n",
       "  1,\n",
       "  1,\n",
       "  1,\n",
       "  1,\n",
       "  1,\n",
       "  1,\n",
       "  1,\n",
       "  1,\n",
       "  1,\n",
       "  1,\n",
       "  1,\n",
       "  1,\n",
       "  1,\n",
       "  1,\n",
       "  1,\n",
       "  1,\n",
       "  1,\n",
       "  1,\n",
       "  1,\n",
       "  1,\n",
       "  1,\n",
       "  1,\n",
       "  1,\n",
       "  1,\n",
       "  1,\n",
       "  1,\n",
       "  1,\n",
       "  1,\n",
       "  1,\n",
       "  1,\n",
       "  1,\n",
       "  1,\n",
       "  1,\n",
       "  1,\n",
       "  1,\n",
       "  1,\n",
       "  1,\n",
       "  1,\n",
       "  1,\n",
       "  1,\n",
       "  1,\n",
       "  1]}"
      ]
     },
     "execution_count": 72,
     "metadata": {},
     "output_type": "execute_result"
    }
   ],
   "execution_count": 72
  },
  {
   "metadata": {
    "ExecuteTime": {
     "end_time": "2025-10-21T07:50:08.210165Z",
     "start_time": "2025-10-21T07:50:08.206156Z"
    }
   },
   "cell_type": "code",
   "source": [
    "example_input_ids = tokenized_datasets['train'][0]['input_ids']\n",
    "tokenizer.convert_tokens_to_string(tokenizer.convert_ids_to_tokens(example_input_ids))\n",
    "\n"
   ],
   "id": "ba20f2678904a243",
   "outputs": [
    {
     "data": {
      "text/plain": [
       "'<s>Amrozi accused his brother , whom he called \" the witness \" , of deliberately distorting his evidence .</s></s>Referring to him as only \" the witness \" , Amrozi accused his brother of deliberately distorting his evidence .</s>'"
      ]
     },
     "execution_count": 73,
     "metadata": {},
     "output_type": "execute_result"
    }
   ],
   "execution_count": 73
  },
  {
   "metadata": {
    "ExecuteTime": {
     "end_time": "2025-10-21T07:50:08.221160Z",
     "start_time": "2025-10-21T07:50:08.218263Z"
    }
   },
   "cell_type": "code",
   "source": [
    "#from transformers import DataCollatorWithPadding\n",
    "data_collator = DataCollatorWithPadding(tokenizer=tokenizer, padding=\"longest\")\n"
   ],
   "id": "794a88461a822787",
   "outputs": [],
   "execution_count": 74
  },
  {
   "metadata": {
    "ExecuteTime": {
     "end_time": "2025-10-21T07:50:08.675800Z",
     "start_time": "2025-10-21T07:50:08.233137Z"
    }
   },
   "cell_type": "code",
   "source": [
    "#from transformers import AutoModelForSequenceClassification, TrainingArguments, trainer\n",
    "model = AutoModelForSequenceClassification.from_pretrained(model_name_or_path, return_dict=True)\n",
    "device = torch.device(\"cuda\" if torch.cuda.is_available() else \"cpu\")\n",
    "model.to(device)\n",
    "print(sum(p.numel() for p in model.parameters()))\n",
    "training_args = TrainingArguments(\n",
    "    output_dir=\"./output\",\n",
    "    learning_rate=3e-5,\n",
    "    per_device_train_batch_size=32,\n",
    "    per_device_eval_batch_size=32,\n",
    "    num_train_epochs=2,\n",
    "    weight_decay=0.01,\n",
    "    eval_strategy = \"epoch\",\n",
    "    save_strategy=\"epoch\",\n",
    "    logging_steps=100,\n",
    "    load_best_model_at_end=True,\n",
    ")\n"
   ],
   "id": "a9d8b35800044714",
   "outputs": [
    {
     "name": "stderr",
     "output_type": "stream",
     "text": [
      "Some weights of RobertaForSequenceClassification were not initialized from the model checkpoint at roberta-base and are newly initialized: ['classifier.dense.bias', 'classifier.dense.weight', 'classifier.out_proj.bias', 'classifier.out_proj.weight']\n",
      "You should probably TRAIN this model on a down-stream task to be able to use it for predictions and inference.\n"
     ]
    },
    {
     "name": "stdout",
     "output_type": "stream",
     "text": [
      "124647170\n"
     ]
    }
   ],
   "execution_count": 75
  },
  {
   "metadata": {
    "ExecuteTime": {
     "end_time": "2025-10-21T07:50:55.940983Z",
     "start_time": "2025-10-21T07:50:08.683076Z"
    }
   },
   "cell_type": "code",
   "source": [
    "from transformers import trainer\n",
    "def compute_metrics(eval_pred):\n",
    "    logits, labels = eval_pred\n",
    "    predictions = np.argmax(logits, axis=-1)\n",
    "    return metric.compute(predictions = predictions, references = labels)\n",
    "\n",
    "trainer = Trainer(\n",
    "    model=model,\n",
    "    args=training_args,\n",
    "    train_dataset=tokenized_datasets[\"train\"],\n",
    "    eval_dataset=tokenized_datasets[\"validation\"],  # or \"test\" if you prefer\n",
    "    tokenizer=tokenizer,\n",
    "    data_collator=data_collator,\n",
    "    compute_metrics= compute_metrics,\n",
    ")\n",
    "\n",
    "trainer.train()"
   ],
   "id": "e326767ada1eda3",
   "outputs": [
    {
     "name": "stderr",
     "output_type": "stream",
     "text": [
      "C:\\Users\\Balle\\AppData\\Local\\Temp\\ipykernel_19752\\3756462313.py:7: FutureWarning: `tokenizer` is deprecated and will be removed in version 5.0.0 for `Trainer.__init__`. Use `processing_class` instead.\n",
      "  trainer = Trainer(\n"
     ]
    },
    {
     "data": {
      "text/plain": [
       "<IPython.core.display.HTML object>"
      ],
      "text/html": [
       "\n",
       "    <div>\n",
       "      \n",
       "      <progress value='230' max='230' style='width:300px; height:20px; vertical-align: middle;'></progress>\n",
       "      [230/230 00:46, Epoch 2/2]\n",
       "    </div>\n",
       "    <table border=\"1\" class=\"dataframe\">\n",
       "  <thead>\n",
       " <tr style=\"text-align: left;\">\n",
       "      <th>Epoch</th>\n",
       "      <th>Training Loss</th>\n",
       "      <th>Validation Loss</th>\n",
       "      <th>Accuracy</th>\n",
       "      <th>F1</th>\n",
       "    </tr>\n",
       "  </thead>\n",
       "  <tbody>\n",
       "    <tr>\n",
       "      <td>1</td>\n",
       "      <td>0.522800</td>\n",
       "      <td>0.361787</td>\n",
       "      <td>0.865196</td>\n",
       "      <td>0.898336</td>\n",
       "    </tr>\n",
       "    <tr>\n",
       "      <td>2</td>\n",
       "      <td>0.344100</td>\n",
       "      <td>0.309810</td>\n",
       "      <td>0.875000</td>\n",
       "      <td>0.908766</td>\n",
       "    </tr>\n",
       "  </tbody>\n",
       "</table><p>"
      ]
     },
     "metadata": {},
     "output_type": "display_data"
    },
    {
     "data": {
      "text/plain": [
       "TrainOutput(global_step=230, training_loss=0.4156065899392833, metrics={'train_runtime': 46.9998, 'train_samples_per_second': 156.086, 'train_steps_per_second': 4.894, 'total_flos': 302442047026080.0, 'train_loss': 0.4156065899392833, 'epoch': 2.0})"
      ]
     },
     "execution_count": 76,
     "metadata": {},
     "output_type": "execute_result"
    }
   ],
   "execution_count": 76
  },
  {
   "metadata": {
    "ExecuteTime": {
     "end_time": "2025-10-21T07:50:56.720814Z",
     "start_time": "2025-10-21T07:50:55.964237Z"
    }
   },
   "cell_type": "code",
   "source": [
    "results = trainer.evaluate()\n",
    "print(results)"
   ],
   "id": "5437fb42d31ba25",
   "outputs": [
    {
     "data": {
      "text/plain": [
       "<IPython.core.display.HTML object>"
      ],
      "text/html": []
     },
     "metadata": {},
     "output_type": "display_data"
    },
    {
     "name": "stdout",
     "output_type": "stream",
     "text": [
      "{'eval_loss': 0.30981001257896423, 'eval_accuracy': 0.875, 'eval_f1': 0.9087656529516994, 'eval_runtime': 0.7509, 'eval_samples_per_second': 543.327, 'eval_steps_per_second': 17.312, 'epoch': 2.0}\n"
     ]
    }
   ],
   "execution_count": 77
  },
  {
   "metadata": {
    "ExecuteTime": {
     "end_time": "2025-10-21T07:50:59.785686Z",
     "start_time": "2025-10-21T07:50:56.733614Z"
    }
   },
   "cell_type": "code",
   "source": [
    "#from sklearn.metrics import ConfusionMatrixDisplay, confusion_matrix\n",
    "#import matplotlib.pyplot as plt\n",
    "def plot_confusion_matrix(y_preds, y_true, labels):\n",
    "    cm = confusion_matrix(y_true, y_preds, normalize=\"true\")\n",
    "    fig, ax = plt.subplots(figsize=(6, 6))\n",
    "    disp = ConfusionMatrixDisplay(confusion_matrix=cm, display_labels=labels)\n",
    "    disp.plot(cmap=\"Blues\", values_format=\".2f\", ax=ax, colorbar=False)\n",
    "    plt.title(\"Normalized confusion matrix\")\n",
    "    plt.show()\n",
    "\n",
    "y_preds = np.argmax(trainer.predict(tokenized_datasets[\"test\"]).predictions, axis=1)\n",
    "y_test = tokenized_datasets[\"test\"]['labels']"
   ],
   "id": "36c0cf12caaddde1",
   "outputs": [],
   "execution_count": 78
  },
  {
   "metadata": {
    "ExecuteTime": {
     "end_time": "2025-10-21T07:50:59.898147Z",
     "start_time": "2025-10-21T07:50:59.793342Z"
    }
   },
   "cell_type": "code",
   "source": [
    "labels = [\"not equivalent\", \"equivalent\"]\n",
    "plot_confusion_matrix(y_preds, y_test, labels)"
   ],
   "id": "9a5da45521237ee2",
   "outputs": [
    {
     "data": {
      "text/plain": [
       "<Figure size 600x600 with 1 Axes>"
      ],
      "image/png": "[encoded data removed]"
     },
     "metadata": {},
     "output_type": "display_data"
    }
   ],
   "execution_count": 79
  },
  {
   "metadata": {
    "ExecuteTime": {
     "end_time": "2025-10-21T07:50:59.971705Z",
     "start_time": "2025-10-21T07:50:59.905481Z"
    }
   },
   "cell_type": "code",
   "source": [
    "print(\"y_preds shape:\", np.shape(y_preds))\n",
    "print(\"y_test shape:\", np.shape(y_test))\n",
    "print(\"Arrays are same length:\", len(y_preds) == len(y_test))\n",
    "\n",
    "# Check value ranges/classes\n",
    "print(\"Unique values in y_preds:\", np.unique(y_preds))\n",
    "print(\"Unique values in y_test:\", np.unique(y_test))\n",
    "\n",
    "# Quick mismatch check (should be zero for identical arrays)\n",
    "n_mismatches = np.count_nonzero(y_preds != y_test)\n",
    "print(\"Number of mismatches between prediction and truth:\", n_mismatches)\n",
    "print(\"Train label distribution:\", np.bincount(y_preds))\n",
    "print(\"Test label distribution:\", np.bincount(y_test))"
   ],
   "id": "54b4f7c3a51b58a8",
   "outputs": [
    {
     "name": "stdout",
     "output_type": "stream",
     "text": [
      "y_preds shape: (1725,)\n",
      "y_test shape: (1725,)\n",
      "Arrays are same length: True\n",
      "Unique values in y_preds: [0 1]\n",
      "Unique values in y_test: [0 1]\n",
      "Number of mismatches between prediction and truth: 224\n",
      "Train label distribution: [ 540 1185]\n",
      "Test label distribution: [ 578 1147]\n"
     ]
    }
   ],
   "execution_count": 80
  },
  {
   "metadata": {
    "ExecuteTime": {
     "end_time": "2025-10-21T07:56:04.984576Z",
     "start_time": "2025-10-21T07:56:04.981466Z"
    }
   },
   "cell_type": "code",
   "source": [
    "from peft import LoraConfig\n",
    "peft_config = LoraConfig(\n",
    "    task_type=TaskType.SEQ_CLS,\n",
    "    r=32,\n",
    "    lora_alpha=1,\n",
    "    lora_dropout=0.1)"
   ],
   "id": "72d2168f24922428",
   "outputs": [],
   "execution_count": 81
  },
  {
   "metadata": {
    "ExecuteTime": {
     "end_time": "2025-10-21T07:57:37.834541Z",
     "start_time": "2025-10-21T07:57:37.702825Z"
    }
   },
   "cell_type": "code",
   "source": [
    "model = AutoModelForSequenceClassification.from_pretrained(model_name_or_path, return_dict=True)\n",
    "model = get_peft_model(model, peft_config)\n",
    "model.print_trainable_parameters()"
   ],
   "id": "b29ecde176101f27",
   "outputs": [
    {
     "name": "stderr",
     "output_type": "stream",
     "text": [
      "Some weights of RobertaForSequenceClassification were not initialized from the model checkpoint at roberta-base and are newly initialized: ['classifier.dense.bias', 'classifier.dense.weight', 'classifier.out_proj.bias', 'classifier.out_proj.weight']\n",
      "You should probably TRAIN this model on a down-stream task to be able to use it for predictions and inference.\n"
     ]
    },
    {
     "name": "stdout",
     "output_type": "stream",
     "text": [
      "trainable params: 1,771,778 || all params: 126,418,948 || trainable%: 1.4015\n"
     ]
    }
   ],
   "execution_count": 83
  },
  {
   "metadata": {
    "ExecuteTime": {
     "end_time": "2025-10-21T08:12:06.980936Z",
     "start_time": "2025-10-21T08:12:06.923035Z"
    }
   },
   "cell_type": "code",
   "source": [
    "training_args = TrainingArguments(\n",
    "    output_dir=\"./output/roberta-base-peft-p-tuning\",\n",
    "    learning_rate=3e-5,\n",
    "    per_device_train_batch_size=32,\n",
    "    per_device_eval_batch_size=32,\n",
    "    num_train_epochs=4,\n",
    "    weight_decay=0.01,\n",
    "    eval_strategy=\"epoch\",\n",
    "    save_strategy=\"epoch\",\n",
    "    logging_steps=100,\n",
    "    load_best_model_at_end=True,\n",
    ")"
   ],
   "id": "f864ff63e6107da0",
   "outputs": [],
   "execution_count": 92
  },
  {
   "metadata": {
    "ExecuteTime": {
     "end_time": "2025-10-21T08:12:08.695765Z",
     "start_time": "2025-10-21T08:12:08.680397Z"
    }
   },
   "cell_type": "code",
   "source": [
    "trainer = Trainer(\n",
    "    model=model,\n",
    "    args=training_args,\n",
    "    train_dataset=tokenized_datasets[\"train\"],\n",
    "    eval_dataset=tokenized_datasets[\"test\"],\n",
    "    tokenizer=tokenizer,\n",
    "    data_collator=data_collator,\n",
    "    compute_metrics=compute_metrics,\n",
    ")\n"
   ],
   "id": "ca1928f79de1ad67",
   "outputs": [
    {
     "name": "stderr",
     "output_type": "stream",
     "text": [
      "C:\\Users\\Balle\\AppData\\Local\\Temp\\ipykernel_19752\\621152119.py:1: FutureWarning: `tokenizer` is deprecated and will be removed in version 5.0.0 for `Trainer.__init__`. Use `processing_class` instead.\n",
      "  trainer = Trainer(\n"
     ]
    }
   ],
   "execution_count": 93
  },
  {
   "metadata": {
    "ExecuteTime": {
     "end_time": "2025-10-21T08:13:26.029394Z",
     "start_time": "2025-10-21T08:12:10.619040Z"
    }
   },
   "cell_type": "code",
   "source": "trainer.train()",
   "id": "177041c623cd215b",
   "outputs": [
    {
     "data": {
      "text/plain": [
       "<IPython.core.display.HTML object>"
      ],
      "text/html": [
       "\n",
       "    <div>\n",
       "      \n",
       "      <progress value='460' max='460' style='width:300px; height:20px; vertical-align: middle;'></progress>\n",
       "      [460/460 01:14, Epoch 4/4]\n",
       "    </div>\n",
       "    <table border=\"1\" class=\"dataframe\">\n",
       "  <thead>\n",
       " <tr style=\"text-align: left;\">\n",
       "      <th>Epoch</th>\n",
       "      <th>Training Loss</th>\n",
       "      <th>Validation Loss</th>\n",
       "      <th>Accuracy</th>\n",
       "      <th>F1</th>\n",
       "    </tr>\n",
       "  </thead>\n",
       "  <tbody>\n",
       "    <tr>\n",
       "      <td>1</td>\n",
       "      <td>0.346100</td>\n",
       "      <td>0.363657</td>\n",
       "      <td>0.838841</td>\n",
       "      <td>0.883389</td>\n",
       "    </tr>\n",
       "    <tr>\n",
       "      <td>2</td>\n",
       "      <td>0.325700</td>\n",
       "      <td>0.355804</td>\n",
       "      <td>0.841739</td>\n",
       "      <td>0.883978</td>\n",
       "    </tr>\n",
       "    <tr>\n",
       "      <td>3</td>\n",
       "      <td>0.314700</td>\n",
       "      <td>0.359153</td>\n",
       "      <td>0.842899</td>\n",
       "      <td>0.884828</td>\n",
       "    </tr>\n",
       "    <tr>\n",
       "      <td>4</td>\n",
       "      <td>0.321700</td>\n",
       "      <td>0.356013</td>\n",
       "      <td>0.843478</td>\n",
       "      <td>0.884812</td>\n",
       "    </tr>\n",
       "  </tbody>\n",
       "</table><p>"
      ]
     },
     "metadata": {},
     "output_type": "display_data"
    },
    {
     "data": {
      "text/plain": [
       "TrainOutput(global_step=460, training_loss=0.33202809043552567, metrics={'train_runtime': 75.165, 'train_samples_per_second': 195.197, 'train_steps_per_second': 6.12, 'total_flos': 617951048233344.0, 'train_loss': 0.33202809043552567, 'epoch': 4.0})"
      ]
     },
     "execution_count": 94,
     "metadata": {},
     "output_type": "execute_result"
    }
   ],
   "execution_count": 94
  },
  {
   "metadata": {
    "ExecuteTime": {
     "end_time": "2025-10-21T08:00:31.281401Z",
     "start_time": "2025-10-21T08:00:27.713303Z"
    }
   },
   "cell_type": "code",
   "source": [
    "y_preds = np.argmax(trainer.predict(tokenized_datasets[\"test\"]).predictions, axis=1)\n",
    "y_test = tokenized_datasets[\"test\"]['labels']\n",
    "labels = [\"not equivalent\", \"equivalent\"]\n",
    "plot_confusion_matrix(y_preds, y_test, labels)"
   ],
   "id": "61da975dfbb4bf14",
   "outputs": [
    {
     "data": {
      "text/plain": [
       "<IPython.core.display.HTML object>"
      ],
      "text/html": []
     },
     "metadata": {},
     "output_type": "display_data"
    },
    {
     "data": {
      "text/plain": [
       "<Figure size 600x600 with 1 Axes>"
      ],
      "image/png": "[encoded data removed]"
     },
     "metadata": {},
     "output_type": "display_data"
    }
   ],
   "execution_count": 88
  },
  {
   "metadata": {
    "ExecuteTime": {
     "end_time": "2025-10-21T08:01:32.482504Z",
     "start_time": "2025-10-21T08:01:32.363235Z"
    }
   },
   "cell_type": "code",
   "source": [
    "def get_preds(sentence1, sentence2, classes=[\"not equivalent\", \"equivalent\"]):\n",
    "  inputs = tokenizer(sentence1,\n",
    "                     sentence2,\n",
    "                     truncation=True,\n",
    "                     padding=\"longest\",\n",
    "                     return_tensors=\"pt\").to(\"cuda\")\n",
    "  with torch.no_grad():\n",
    "    outputs = trainer.model(**inputs).logits\n",
    "    print(outputs)\n",
    "\n",
    "  paraphrased_text = torch.softmax(outputs, dim=1).tolist()[0]\n",
    "  for i in range(len(classes)):\n",
    "      print(f\"{classes[i]}: {int(round(paraphrased_text[i] * 100))}%\")\n",
    "sentence1 = \"Coast redwood trees are the tallest trees on the planet and can grow over 300 feet tall.\"\n",
    "sentence2 = \"The coast redwood trees, which can attain a height of over 300 feet, are the tallest trees on earth.\"\n",
    "get_preds(sentence1, sentence2)"
   ],
   "id": "14301420a89cc97f",
   "outputs": [
    {
     "name": "stdout",
     "output_type": "stream",
     "text": [
      "tensor([[-2.3737,  2.2976]], device='cuda:0')\n",
      "not equivalent: 1%\n",
      "equivalent: 99%\n"
     ]
    }
   ],
   "execution_count": 90
  },
  {
   "metadata": {
    "ExecuteTime": {
     "end_time": "2025-10-21T08:01:35.181079Z",
     "start_time": "2025-10-21T08:01:35.113754Z"
    }
   },
   "cell_type": "code",
   "source": [
    "sentence1 = 'Howdy, my name is Harry and I like data science'\n",
    "sentence2 = 'Howdy, my name is Albert and I like mathematics'\n",
    "get_preds(sentence1, sentence2)"
   ],
   "id": "e4c331aa9aa6aa0b",
   "outputs": [
    {
     "name": "stdout",
     "output_type": "stream",
     "text": [
      "tensor([[-0.3806,  0.2290]], device='cuda:0')\n",
      "not equivalent: 35%\n",
      "equivalent: 65%\n"
     ]
    }
   ],
   "execution_count": 91
  }
 ],
 "metadata": {
  "kernelspec": {
   "display_name": "Python 3",
   "language": "python",
   "name": "python3"
  },
  "language_info": {
   "codemirror_mode": {
    "name": "ipython",
    "version": 2
   },
   "file_extension": ".py",
   "mimetype": "text/x-python",
   "name": "python",
   "nbconvert_exporter": "python",
   "pygments_lexer": "ipython2",
   "version": "2.7.6"
  }
 },
 "nbformat": 4,
 "nbformat_minor": 5
}
